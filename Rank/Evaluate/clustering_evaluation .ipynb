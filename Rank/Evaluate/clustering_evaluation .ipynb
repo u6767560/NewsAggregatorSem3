{
 "cells": [
  {
   "cell_type": "markdown",
   "metadata": {},
   "source": [
    "This is from https://scikit-learn.org/stable/modules/clustering.html#clustering-performance-evaluation\n",
    "If the ground truth labels are not known, evaluation must be performed using the model itself. The Silhouette Coefficient (sklearn.metrics.silhouette_score) is an example of such an evaluation, where a higher Silhouette Coefficient score relates to a model with better defined clusters. The Silhouette Coefficient is defined for each sample and is composed of two scores:\n",
    "\n",
    "* a: The mean distance between a sample and all other points in the same class.\n",
    "* b: The mean distance between a sample and all other points in the next nearest cluster.  \n",
    "  \n",
    "The Silhouette Coefficient s for a single sample is then given as:$s=(b-a)/max(a,b)$"
   ]
  },
  {
   "cell_type": "code",
   "execution_count": 1,
   "metadata": {},
   "outputs": [],
   "source": [
    ">>> from sklearn import metrics\n",
    ">>> from sklearn.metrics import pairwise_distances\n",
    ">>> from sklearn import datasets\n",
    ">>> dataset = datasets.load_iris()\n",
    ">>> X = dataset.data\n",
    ">>> y = dataset.target"
   ]
  },
  {
   "cell_type": "code",
   "execution_count": 2,
   "metadata": {},
   "outputs": [
    {
     "data": {
      "text/plain": [
       "0.5528190123564091"
      ]
     },
     "execution_count": 2,
     "metadata": {},
     "output_type": "execute_result"
    }
   ],
   "source": [
    ">>> import numpy as np\n",
    ">>> from sklearn.cluster import KMeans\n",
    ">>> kmeans_model = KMeans(n_clusters=3, random_state=1).fit(X)\n",
    ">>> labels = kmeans_model.labels_\n",
    ">>> metrics.silhouette_score(X, labels, metric='euclidean')"
   ]
  },
  {
   "cell_type": "markdown",
   "metadata": {},
   "source": [
    "Calinski-Harabaz Index\n",
    "If the ground truth labels are not known, the Calinski-Harabaz index (sklearn.metrics.calinski_harabaz_score) - also known as the Variance Ratio Criterion - can be used to evaluate the model, where a higher Calinski-Harabaz score relates to a model with better defined clusters.\n",
    "\n",
    "For k clusters, the Calinski-Harabaz score s is given as the ratio of the between-clusters dispersion mean and the within-cluster dispersion:  \n",
    "$s(k) = \\frac{\\mathrm{Tr}(B_k)}{\\mathrm{Tr}(W_k)} \\times \\frac{N - k}{k - 1}$  \n",
    "where $s(k)$ is the between group dispersion matrix and  is the within-cluster dispersion matrix defined by:  \n",
    "\n",
    "$W_k = \\sum_{q=1}^k \\sum_{x \\in C_q} (x - c_q) (x - c_q)^T$,  \n",
    "  \n",
    "  \n",
    "$B_k = \\sum_q n_q (c_q - c) (c_q - c)^T$\n",
    "\n"
   ]
  },
  {
   "cell_type": "code",
   "execution_count": 4,
   "metadata": {},
   "outputs": [
    {
     "data": {
      "text/plain": [
       "561.62775662962"
      ]
     },
     "execution_count": 4,
     "metadata": {},
     "output_type": "execute_result"
    }
   ],
   "source": [
    ">>> import numpy as np\n",
    ">>> from sklearn.cluster import KMeans\n",
    ">>> kmeans_model = KMeans(n_clusters=3, random_state=1).fit(X)\n",
    ">>> labels = kmeans_model.labels_\n",
    ">>> metrics.calinski_harabaz_score(X, labels)  "
   ]
  },
  {
   "cell_type": "markdown",
   "metadata": {},
   "source": [
    " Davies-Bouldin Index\n",
    "If the ground truth labels are not known, the Davies-Bouldin index (sklearn.metrics.davies_bouldin_score) can be used to evaluate the model, where a lower Davies-Bouldin index relates to a model with better separation between the clusters.\n",
    "\n"
   ]
  },
  {
   "cell_type": "code",
   "execution_count": 5,
   "metadata": {},
   "outputs": [
    {
     "name": "stderr",
     "output_type": "stream",
     "text": [
      "D:\\new\\lib\\site-packages\\sklearn\\metrics\\cluster\\unsupervised.py:342: RuntimeWarning: divide by zero encountered in true_divide\n",
      "  score = (intra_dists[:, None] + intra_dists) / centroid_distances\n"
     ]
    },
    {
     "data": {
      "text/plain": [
       "0.6619715465007528"
      ]
     },
     "execution_count": 5,
     "metadata": {},
     "output_type": "execute_result"
    }
   ],
   "source": [
    ">>> from sklearn import datasets\n",
    ">>> iris = datasets.load_iris()\n",
    ">>> X = iris.data\n",
    ">>> from sklearn.cluster import KMeans\n",
    ">>> from sklearn.metrics import davies_bouldin_score\n",
    ">>> kmeans = KMeans(n_clusters=3, random_state=1).fit(X)\n",
    ">>> labels = kmeans.labels_\n",
    ">>> davies_bouldin_score(X, labels) "
   ]
  }
 ],
 "metadata": {
  "kernelspec": {
   "display_name": "Python 3",
   "language": "python",
   "name": "python3"
  },
  "language_info": {
   "codemirror_mode": {
    "name": "ipython",
    "version": 3
   },
   "file_extension": ".py",
   "mimetype": "text/x-python",
   "name": "python",
   "nbconvert_exporter": "python",
   "pygments_lexer": "ipython3",
   "version": "3.7.1"
  }
 },
 "nbformat": 4,
 "nbformat_minor": 2
}
