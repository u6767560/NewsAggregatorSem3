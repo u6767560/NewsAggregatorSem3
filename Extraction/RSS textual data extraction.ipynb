{
 "cells": [
  {
   "cell_type": "markdown",
   "metadata": {},
   "source": [
    "# Links from feedparser are sent to newpaper3k to extract textual information such as summary,keywords,text."
   ]
  },
  {
   "cell_type": "code",
   "execution_count": null,
   "metadata": {},
   "outputs": [],
   "source": [
    "import pandas as pd\n",
    "from pandas import DataFrame\n",
    "import feedparser,io\n",
    "import re\n",
    "from newspaper import Article\n",
    "\n",
    "\n",
    "from pandas import ExcelWriter\n",
    "from pandas import ExcelFile\n",
    "df = pd.read_excel('RSS_ExtractionFormatV2.xlsx',index_col = 0)"
   ]
  },
  {
   "cell_type": "code",
   "execution_count": null,
   "metadata": {},
   "outputs": [],
   "source": [
    "import datetime\n",
    "\n",
    "import time\n",
    "import pytz # pip install pytz\n",
    "import tzlocal # pip install tzlocal"
   ]
  },
  {
   "cell_type": "code",
   "execution_count": null,
   "metadata": {},
   "outputs": [],
   "source": [
    "df.head(100)"
   ]
  },
  {
   "cell_type": "code",
   "execution_count": null,
   "metadata": {},
   "outputs": [],
   "source": [
    "df2 = df[['Name','Rss','NTags','SCOPE','Type']]"
   ]
  },
  {
   "cell_type": "code",
   "execution_count": null,
   "metadata": {},
   "outputs": [],
   "source": [
    "df2.head()"
   ]
  },
  {
   "cell_type": "code",
   "execution_count": null,
   "metadata": {},
   "outputs": [],
   "source": [
    "feeds = []\n",
    "posts =[]\n",
    "description = []\n",
    "counter  = 0\n",
    "for url in df2['Rss']:\n",
    "    \n",
    "    \n",
    "   \n",
    "    \n",
    "    \n",
    "    feed = feedparser.parse(url)\n",
    "    Name = df2['Name'][counter]\n",
    "    Ntags = df2['NTags'][counter]\n",
    "    Scope = df2['SCOPE'][counter]\n",
    "    Type = df2['Type'][counter]\n",
    "    counter = counter +1\n",
    "    for post in feed.entries:\n",
    "        \n",
    "        try:\n",
    "        \n",
    "            post.author\n",
    "        except Exception as e:\n",
    "            posts.append((Name,Ntags,Scope,Type,post.title,post.link,post.published,Ntags))\n",
    "            print(e)\n",
    "            print(\"continuing.....\")\n",
    "            continue\n",
    "        \n",
    "       \n",
    "        \n",
    "       \n",
    "\n",
    "        posts.append((Name,Ntags,Scope,Type,post.title,post.link,post.published,post.author))\n",
    "        \n",
    "    for post in feed.entries:  \n",
    "        try:\n",
    "            post.description\n",
    "        except Exception as d:\n",
    "            description.append(\"Not available\")\n",
    "            print(d)\n",
    "            print(\"continuing\")\n",
    "            continue\n",
    "        description.append(post.description)\n",
    "            \n",
    "        \n",
    "        \n",
    "        \n",
    "df3 = pd.DataFrame(posts, columns=['Name','source','Scope','Tags','title', 'url','published','authors'])\n"
   ]
  },
  {
   "cell_type": "code",
   "execution_count": null,
   "metadata": {},
   "outputs": [],
   "source": [
    "df3['meta-description'] = description"
   ]
  },
  {
   "cell_type": "code",
   "execution_count": null,
   "metadata": {},
   "outputs": [],
   "source": [
    "# remove all tags(image tags ,src tags.etc)\n",
    "count =0\n",
    "for des in df3['meta-description']:\n",
    "    \n",
    "    clean = re.compile('<.*?>')\n",
    "    \n",
    "    df3['meta-description'][count] = re.sub(clean, '', df3['meta-description'][count])\n",
    "    count = count +1"
   ]
  },
  {
   "cell_type": "code",
   "execution_count": null,
   "metadata": {},
   "outputs": [],
   "source": [
    "df3.head(50)"
   ]
  },
  {
   "cell_type": "code",
   "execution_count": null,
   "metadata": {},
   "outputs": [],
   "source": [
    "df3['publishedTime'] = pd.to_datetime(df3.published)\n",
    "df3['publishedDate'] = df3['publishedTime'] \n",
    "df3['publish_dateX'] = df3['publishedTime']\n",
    "df3['publish_date'] = df3['publishedTime']\n",
    "\n",
    "df3.head()\n"
   ]
  },
  {
   "cell_type": "code",
   "execution_count": null,
   "metadata": {},
   "outputs": [],
   "source": [
    "count = 0\n",
    "for pub in df3['publishedDate']:\n",
    "    #pub = pub.utcnow().date()\n",
    "    df3['publish_date'][count] = df3['publishedDate'][count].strftime('%Y%m%d%H%M%S')\n",
    "    df3['publish_dateX'][count] = df3['publishedDate'][count].strftime('%Y%m%d%H%M%S')\n",
    "    \n",
    "    df3['publishedTime'][count] = df3['publishedTime'][count].time()\n",
    "    df3['publishedDate'][count] = df3['publishedDate'][count].date()\n",
    "    #df3['timezone'][count] = df3['published'][count].strftime(\"%z\")\n",
    "    count = count +1"
   ]
  },
  {
   "cell_type": "code",
   "execution_count": null,
   "metadata": {},
   "outputs": [],
   "source": [
    "df3.head(5)"
   ]
  },
  {
   "cell_type": "code",
   "execution_count": null,
   "metadata": {},
   "outputs": [],
   "source": [
    "#int(df3['publish_date'][5])\n",
    "count = 0\n",
    "for pub in df3['publish_dateX']:\n",
    "    df3['publish_dateX'][count] = int(df3['publish_dateX'][count])\n",
    "    count = count +1"
   ]
  },
  {
   "cell_type": "code",
   "execution_count": null,
   "metadata": {},
   "outputs": [],
   "source": [
    "df3.head()"
   ]
  },
  {
   "cell_type": "code",
   "execution_count": null,
   "metadata": {},
   "outputs": [],
   "source": [
    "# stored run time from previous run is used to remove already parsed/extracted links\n",
    "with open (\"run_time.txt\", \"r\") as myfile:\n",
    "    previous_run=myfile.readline()\n",
    "    if previous_run == \"\":\n",
    "        previous_run = '00000000000000'\n",
    "        \n",
    "        "
   ]
  },
  {
   "cell_type": "code",
   "execution_count": null,
   "metadata": {},
   "outputs": [],
   "source": [
    "previous_run = int(previous_run)\n",
    "print(previous_run)"
   ]
  },
  {
   "cell_type": "code",
   "execution_count": null,
   "metadata": {},
   "outputs": [],
   "source": [
    "count = 0\n",
    "Dlist = []\n",
    "for x in df3['publish_dateX']:\n",
    "    if df3['publish_dateX'][count] <  previous_run:\n",
    "        #print(df3['publish_dateX'][count])\n",
    "        Dlist.append(count)\n",
    "    count = count+1"
   ]
  },
  {
   "cell_type": "code",
   "execution_count": null,
   "metadata": {},
   "outputs": [],
   "source": []
  },
  {
   "cell_type": "code",
   "execution_count": null,
   "metadata": {},
   "outputs": [],
   "source": [
    "print(Dlist)"
   ]
  },
  {
   "cell_type": "code",
   "execution_count": null,
   "metadata": {},
   "outputs": [],
   "source": [
    "df3 = df3.drop(df3.index[Dlist])"
   ]
  },
  {
   "cell_type": "code",
   "execution_count": null,
   "metadata": {},
   "outputs": [],
   "source": [
    "#df3.head()\n"
   ]
  },
  {
   "cell_type": "code",
   "execution_count": null,
   "metadata": {},
   "outputs": [],
   "source": [
    "#df3['publish_date'] = pd.to_datetime(df3.published)"
   ]
  },
  {
   "cell_type": "code",
   "execution_count": null,
   "metadata": {},
   "outputs": [],
   "source": [
    "df3.head()"
   ]
  },
  {
   "cell_type": "code",
   "execution_count": null,
   "metadata": {},
   "outputs": [],
   "source": [
    "df3 = df3.reset_index()\n",
    "del df3['index']"
   ]
  },
  {
   "cell_type": "code",
   "execution_count": null,
   "metadata": {},
   "outputs": [],
   "source": [
    "df3.head()"
   ]
  },
  {
   "cell_type": "code",
   "execution_count": null,
   "metadata": {},
   "outputs": [],
   "source": [
    "timezone = datetime.datetime.now(pytz.timezone('Australia/Sydney')).strftime('%z')"
   ]
  },
  {
   "cell_type": "code",
   "execution_count": null,
   "metadata": {},
   "outputs": [],
   "source": [
    "count = 0\n",
    "for pub in df3['publish_date']:\n",
    "    \n",
    "    \n",
    "    df3['publish_date'][count] = '' + df3['publish_date'][count] + timezone \n",
    "    df3['publish_date'][count] = df3['publish_date'][count].replace('+','')\n",
    "    count = count +1"
   ]
  },
  {
   "cell_type": "code",
   "execution_count": null,
   "metadata": {},
   "outputs": [],
   "source": [
    "df3.head(30)"
   ]
  },
  {
   "cell_type": "code",
   "execution_count": null,
   "metadata": {},
   "outputs": [],
   "source": [
    "## replacing + fro timezone shouldnt yield any problems as rss feeds are focused on canberra and usually have same timezone as sydney. \n",
    "## in case of including world sources it might be better to convet time to local format and repalace +"
   ]
  },
  {
   "cell_type": "code",
   "execution_count": null,
   "metadata": {},
   "outputs": [],
   "source": [
    "runtime = datetime.datetime.now(pytz.timezone('Australia/Sydney')).strftime('%Y%m%d%H%M%S')\n",
    "#runtime = runtime.replace('+','')\n",
    "print (runtime)"
   ]
  },
  {
   "cell_type": "code",
   "execution_count": null,
   "metadata": {},
   "outputs": [],
   "source": [
    "# storing the run time- \n",
    "with open(\"run_time.txt\", \"w\") as text_file:\n",
    "    print(f\"{runtime}\", file=text_file)"
   ]
  },
  {
   "cell_type": "code",
   "execution_count": null,
   "metadata": {},
   "outputs": [],
   "source": [
    "df3.shape"
   ]
  },
  {
   "cell_type": "code",
   "execution_count": null,
   "metadata": {},
   "outputs": [],
   "source": [
    "from newspaper import Article"
   ]
  },
  {
   "cell_type": "code",
   "execution_count": null,
   "metadata": {},
   "outputs": [],
   "source": [
    "\n",
    "Text= []\n",
    "Summary = []\n",
    "Keywords = []\n",
    "for url in df3['url']:\n",
    "    \n",
    "    try:\n",
    "        \n",
    "        article = Article(url)\n",
    "        article.download()\n",
    "        article.html\n",
    "        article.parse()\n",
    "    except Exception as e:\n",
    "        print(url)\n",
    "        Text.append('error')\n",
    "        Summary.append('error')\n",
    "        Keywords.append('error')\n",
    "        print(e)\n",
    "        print(\"continuing.....\")\n",
    "        continue\n",
    "    text = article.text\n",
    "    article.nlp()\n",
    "    keywords = article.keywords\n",
    "    summary = article.summary\n",
    "    Text.append(text)\n",
    "    Summary.append(summary)\n",
    "    Keywords.append(keywords)\n",
    "    \n",
    "\n",
    "    \n",
    "    \n",
    "    \n",
    "   "
   ]
  },
  {
   "cell_type": "code",
   "execution_count": null,
   "metadata": {},
   "outputs": [],
   "source": [
    "df3['cleaned_text'] = Text\n",
    "df3['summary'] = Summary\n",
    "df3['meta_keywords'] = Keywords"
   ]
  },
  {
   "cell_type": "code",
   "execution_count": null,
   "metadata": {},
   "outputs": [],
   "source": [
    "df3['url'][100]"
   ]
  },
  {
   "cell_type": "code",
   "execution_count": null,
   "metadata": {},
   "outputs": [],
   "source": [
    "\n",
    "#print(df3['link'][300])"
   ]
  },
  {
   "cell_type": "code",
   "execution_count": null,
   "metadata": {},
   "outputs": [],
   "source": [
    "print(df3['title'][100])"
   ]
  },
  {
   "cell_type": "code",
   "execution_count": null,
   "metadata": {},
   "outputs": [],
   "source": [
    "print(df3['cleaned_text'][100])"
   ]
  },
  {
   "cell_type": "code",
   "execution_count": null,
   "metadata": {},
   "outputs": [],
   "source": [
    "print(df3['summary'][100])"
   ]
  },
  {
   "cell_type": "code",
   "execution_count": null,
   "metadata": {},
   "outputs": [],
   "source": [
    "print(df3['meta-description'][100])"
   ]
  },
  {
   "cell_type": "code",
   "execution_count": null,
   "metadata": {},
   "outputs": [],
   "source": [
    "df3.head(500)"
   ]
  },
  {
   "cell_type": "code",
   "execution_count": null,
   "metadata": {},
   "outputs": [],
   "source": []
  },
  {
   "cell_type": "code",
   "execution_count": null,
   "metadata": {},
   "outputs": [],
   "source": []
  },
  {
   "cell_type": "code",
   "execution_count": null,
   "metadata": {},
   "outputs": [],
   "source": []
  }
 ],
 "metadata": {
  "kernelspec": {
   "display_name": "Python 3",
   "language": "python",
   "name": "python3"
  },
  "language_info": {
   "codemirror_mode": {
    "name": "ipython",
    "version": 3
   },
   "file_extension": ".py",
   "mimetype": "text/x-python",
   "name": "python",
   "nbconvert_exporter": "python",
   "pygments_lexer": "ipython3",
   "version": "3.7.3"
  }
 },
 "nbformat": 4,
 "nbformat_minor": 2
}
